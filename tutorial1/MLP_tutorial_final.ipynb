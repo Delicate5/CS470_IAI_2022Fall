{
  "nbformat": 4,
  "nbformat_minor": 0,
  "metadata": {
    "colab": {
      "provenance": [],
      "collapsed_sections": []
    },
    "kernelspec": {
      "name": "python3",
      "display_name": "Python 3"
    },
    "language_info": {
      "name": "python"
    },
    "accelerator": "GPU",
    "gpuClass": "standard"
  },
  "cells": [
    {
      "cell_type": "markdown",
      "source": [
        "# **CS 470 DL Tutorial**\n",
        "#### 1) Google Collab Tutorial (How to use)  \n",
        "#### 2) PyTorch Tutorial   \n",
        "\n",
        "    \n"
      ],
      "metadata": {
        "id": "6rt42VWZSpHV"
      }
    },
    {
      "cell_type": "markdown",
      "source": [
        "#### **1) Google Colab Tutorial**"
      ],
      "metadata": {
        "id": "cW14P9qKkVAT"
      }
    },
    {
      "cell_type": "markdown",
      "source": [
        "The document you are reading is a  [Jupyter notebook](https://jupyter.org/), hosted in Colaboratory. It is not a static page, but an interactive environment that lets you write and execute code in Python and other languages.\n",
        "\n",
        "For example, here is a **code cell** with a short Python script that computes a value, stores it in a variable, and prints the result:"
      ],
      "metadata": {
        "id": "rVCmDPKxEfyu"
      }
    },
    {
      "cell_type": "code",
      "source": [
        "seconds_in_a_day = 24 * 60 * 60\n",
        "seconds_in_a_day\n"
      ],
      "metadata": {
        "colab": {
          "base_uri": "https://localhost:8080/"
        },
        "id": "MJpjCPWXEpjI",
        "outputId": "cacaffe4-a972-47b5-8409-7315d2630812"
      },
      "execution_count": 1,
      "outputs": [
        {
          "output_type": "execute_result",
          "data": {
            "text/plain": [
              "86400"
            ]
          },
          "metadata": {},
          "execution_count": 1
        }
      ]
    },
    {
      "cell_type": "markdown",
      "source": [
        "## 1.1 Overview of Colaboratory"
      ],
      "metadata": {
        "id": "rUYXHl_uGSb7"
      }
    },
    {
      "cell_type": "markdown",
      "source": [
        "## Code cells\n",
        "Below is a **code cell**. Once the toolbar button indicates CONNECTED, click in the cell to select it and execute the contents in the following ways:\n",
        "\n",
        "* Click the **Play icon** in the left gutter of the cell;\n",
        "* Type **Cmd/Ctrl+Enter** to run the cell in place;\n",
        "* Type **Shift+Enter** to run the cell and move focus to the next cell (adding one if none exists); or\n",
        "* Type **Alt+Enter** to run the cell and insert a new code cell immediately below it.\n",
        "\n",
        "There are additional options for running some or all cells in the **Runtime** menu."
      ],
      "metadata": {
        "id": "fHzFBGXbE4l5"
      }
    },
    {
      "cell_type": "code",
      "source": [
        "var = 1\n",
        "name = 'NTU'\n",
        "print(name)"
      ],
      "metadata": {
        "colab": {
          "base_uri": "https://localhost:8080/"
        },
        "id": "c7nrRFWDEtw-",
        "outputId": "48494713-bd75-463b-bc59-03ea5d4392ca"
      },
      "execution_count": 1,
      "outputs": [
        {
          "output_type": "stream",
          "name": "stdout",
          "text": [
            "NTU\n"
          ]
        }
      ]
    },
    {
      "cell_type": "markdown",
      "source": [
        "## Text cells\n",
        "This is a **text cell**. You can **double-click** to edit this cell. Text cells\n",
        "use markdown syntax. To learn more, see our [markdown\n",
        "guide](/notebooks/markdown_guide.ipynb).\n",
        "\n",
        "You can also add math to text cells using [LaTeX](http://www.latex-project.org/)\n",
        "to be rendered by [MathJax](https://www.mathjax.org). Just place the statement\n",
        "within a pair of **\\$** signs. For example `$\\sqrt{3x-1}+(1+x)^2$` becomes\n",
        "$\\sqrt{3x-1}+(1+x)^2.$"
      ],
      "metadata": {
        "id": "ZEaE_eT9G9KA"
      }
    },
    {
      "cell_type": "markdown",
      "source": [
        "## Adding and moving cells\n",
        "You can add new cells by using the **+ CODE** and **+ TEXT** buttons that show when you hover between cells. These buttons are also in the toolbar above the notebook where they can be used to add a cell below the currently selected cell.\n",
        "\n",
        "You can move a cell by selecting it and clicking **Cell Up** or **Cell Down** in the top toolbar. \n",
        "\n",
        "Consecutive cells can be selected by \"lasso selection\" by dragging from outside one cell and through the group.  Non-adjacent cells can be selected concurrently by clicking one and then holding down Ctrl while clicking another.  Similarly, using Shift instead of Ctrl will select all intermediate cells.\n",
        "\n",
        "# Working with python\n",
        "Colaboratory is built on top of [Jupyter Notebook](https://jupyter.org/). Below are some examples of convenience functions provided.\n",
        "\n",
        "Long running python processes can be interrupted. Run the following cell and select **Runtime -> Interrupt execution** (*hotkey: Cmd/Ctrl-M I*) to stop execution."
      ],
      "metadata": {
        "id": "qPXrrCf6HAwi"
      }
    },
    {
      "cell_type": "code",
      "source": [
        "import time\n",
        "print(\"Sleeping\")\n",
        "time.sleep(30) # sleep for a while; interrupt me!\n",
        "print(\"Done Sleeping\")"
      ],
      "metadata": {
        "colab": {
          "base_uri": "https://localhost:8080/"
        },
        "id": "zx3FYap6HXJ1",
        "outputId": "b54702af-db99-483a-9e12-7a060a910a10"
      },
      "execution_count": 3,
      "outputs": [
        {
          "output_type": "stream",
          "name": "stdout",
          "text": [
            "Sleeping\n",
            "Done Sleeping\n"
          ]
        }
      ]
    },
    {
      "cell_type": "markdown",
      "source": [
        "## System aliases\n",
        "\n",
        "Jupyter includes shortcuts for common operations, such as ls:"
      ],
      "metadata": {
        "id": "me_Uj7LBHjIL"
      }
    },
    {
      "cell_type": "code",
      "source": [
        "!ls /bin"
      ],
      "metadata": {
        "colab": {
          "base_uri": "https://localhost:8080/"
        },
        "id": "c87sz24-HO0S",
        "outputId": "e1f0485b-8b5d-429f-b695-5a669c903ea4"
      },
      "execution_count": 4,
      "outputs": [
        {
          "output_type": "stream",
          "name": "stdout",
          "text": [
            "bash\t       hostname       su\n",
            "bunzip2        journalctl     sync\n",
            "bzcat\t       kill\t      systemctl\n",
            "bzcmp\t       kmod\t      systemd\n",
            "bzdiff\t       less\t      systemd-ask-password\n",
            "bzegrep        lessecho       systemd-escape\n",
            "bzexe\t       lessfile       systemd-hwdb\n",
            "bzfgrep        lesskey\t      systemd-inhibit\n",
            "bzgrep\t       lesspipe       systemd-machine-id-setup\n",
            "bzip2\t       ln\t      systemd-notify\n",
            "bzip2recover   login\t      systemd-sysusers\n",
            "bzless\t       loginctl       systemd-tmpfiles\n",
            "bzmore\t       ls\t      systemd-tty-ask-password-agent\n",
            "cat\t       lsblk\t      tar\n",
            "chgrp\t       lsmod\t      tempfile\n",
            "chmod\t       mkdir\t      touch\n",
            "chown\t       mknod\t      true\n",
            "cp\t       mktemp\t      udevadm\n",
            "dash\t       more\t      ulockmgr_server\n",
            "date\t       mount\t      umount\n",
            "dd\t       mountpoint     uname\n",
            "df\t       mv\t      uncompress\n",
            "dir\t       networkctl     vdir\n",
            "dmesg\t       nisdomainname  wdctl\n",
            "dnsdomainname  pidof\t      which\n",
            "domainname     ps\t      ypdomainname\n",
            "echo\t       pwd\t      zcat\n",
            "egrep\t       rbash\t      zcmp\n",
            "false\t       readlink       zdiff\n",
            "fgrep\t       rm\t      zegrep\n",
            "findmnt        rmdir\t      zfgrep\n",
            "fuser\t       run-parts      zforce\n",
            "fusermount     sed\t      zgrep\n",
            "grep\t       sh\t      zless\n",
            "gunzip\t       sh.distrib     zmore\n",
            "gzexe\t       sleep\t      znew\n",
            "gzip\t       stty\n"
          ]
        }
      ]
    },
    {
      "cell_type": "markdown",
      "source": [
        "That `!ls` probably generated a large output. You can select the cell and clear the output by either: \n",
        "\n",
        "1. Clicking on the clear output button (x) in the toolbar above the cell; or\n",
        "2. Right clicking the left gutter of the output area and selecting \"Clear output\" from the context menu.\n",
        "\n",
        "Execute any other process using `!` with string interpolation from python variables, and note the result can be assigned to a variable:"
      ],
      "metadata": {
        "id": "SVSRqEjZHyk6"
      }
    },
    {
      "cell_type": "code",
      "source": [
        "# In https://github.com/ipython/ipython/pull/10545, single quote strings are ignored\n",
        "message = 'Colaboratory is great!'\n",
        "foo = !unset message && echo -e '{message}\\n{message}\\n'$message\"\\n$message\"\n",
        "foo"
      ],
      "metadata": {
        "id": "XjLMpKRHH1Mt"
      },
      "execution_count": null,
      "outputs": []
    },
    {
      "cell_type": "markdown",
      "source": [
        "# Integration with Drive\n",
        "\n",
        "Colaboratory is integrated with Google Drive. It allows you to share, comment, and collaborate on the same document with multiple people:\n",
        "\n",
        "* The **SHARE** button (top-right of the toolbar) allows you to share the notebook and control permissions set on it.\n",
        "\n",
        "* **File->Make a Copy** creates a copy of the notebook in Drive.\n",
        "\n",
        "* **File->Save** saves the File to Drive. **File->Save and checkpoint** pins the version so it doesn't get deleted from the revision history. \n",
        "\n",
        "* **File->Revision history** shows the notebook's revision history. "
      ],
      "metadata": {
        "id": "bFa5WdInH5JM"
      }
    },
    {
      "cell_type": "markdown",
      "source": [
        "## Commenting on a cell\n",
        "You can comment on a Colaboratory notebook like you would on a Google Document. Comments are attached to cells, and are displayed next to the cell they refer to. If you have **comment-only** permissions, you will see a comment button on the top right of the cell when you hover over it.\n",
        "\n",
        "If you have edit or comment permissions you can comment on a cell in one of three ways: \n",
        "\n",
        "1. Select a cell and click the comment button in the toolbar above the top-right corner of the cell.\n",
        "1. Right click a text cell and select **Add a comment** from the context menu.\n",
        "3. Use the shortcut **Ctrl+Shift+M** to add a comment to the currently selected cell. \n",
        "\n",
        "You can resolve and reply to comments, and you can target comments to specific collaborators by typing *+[email address]* (e.g., `+user@domain.com`). Addressed collaborators will be emailed. \n",
        "\n",
        "The Comment button in the top-right corner of the page shows all comments attached to the notebook."
      ],
      "metadata": {
        "id": "olQBP1MuIKPV"
      }
    },
    {
      "cell_type": "markdown",
      "source": [
        "## 1.2 Markdown (optional)\n",
        "\n",
        "Colab has two types of cells: text and code. Text cells are formatted using a simple markup language called Markdown.\n",
        "\n",
        "\n",
        "To see the Markdown source, double-click a text cell, showing both the Markdown source and the rendered version. Above the Markdown source there is a toolbar to assist editing."
      ],
      "metadata": {
        "id": "fadx_nB3IOVA"
      }
    },
    {
      "cell_type": "markdown",
      "source": [
        "## Reference\n",
        "\n",
        "Markdown | Preview\n",
        "--- | ---\n",
        "`**bold text**` | **bold text**\n",
        "`*italicized text*` or `_italicized text_` | *italicized text*\n",
        "`` `Monospace` `` | `Monospace`\n",
        "`~~strikethrough~~` | ~~strikethrough~~\n",
        "`[A link](https://www.google.com)` | [A link](https://www.google.com)\n",
        "`![An image](https://www.google.com/images/rss.png)` | ![An image](https://www.google.com/images/rss.png)\n",
        "\n",
        "\n",
        "---\n",
        "Headings are rendered as titles.\n",
        "\n",
        "```markdown\n",
        "# Section 1\n",
        "# Section 2\n",
        "## Sub-section under Section 2\n",
        "### Sub-section under the sub-section under Section 2\n",
        "# Section 3\n",
        "```\n",
        "\n",
        "# Section 1\n",
        "# Section 2\n",
        "## Sub-section under Section 2\n",
        "### Sub-section under the sub-section under Section 2\n",
        "# Section 3\n",
        "\n",
        "The table of contents, available on the left side of Colab, is populated using at most one section title from each text cell.\n",
        "\n",
        "---\n",
        "\n",
        "```markdown\n",
        ">One level of indentation\n",
        "```\n",
        "\n",
        ">One level of indentation\n",
        "\n",
        "\n",
        "```markdown\n",
        ">>Two levels of indentation\n",
        "```"
      ],
      "metadata": {
        "id": "hWRPG2PsI19v"
      }
    },
    {
      "cell_type": "markdown",
      "source": [
        "## 1.3 Snippets: Importing libraries\n",
        "\n",
        "# Importing a library that is not in Colaboratory\n",
        "\n",
        "To import a library that's not in Colaboratory by default, you can use `!pip install` or `!apt-get install`."
      ],
      "metadata": {
        "id": "R4E8YKbSI4QE"
      }
    },
    {
      "cell_type": "code",
      "source": [
        "!pip install matplotlib-venn"
      ],
      "metadata": {
        "colab": {
          "base_uri": "https://localhost:8080/"
        },
        "id": "qWpRFmR2JQu-",
        "outputId": "ef7dd243-902f-49cf-9517-63a55a836166"
      },
      "execution_count": 5,
      "outputs": [
        {
          "output_type": "stream",
          "name": "stdout",
          "text": [
            "Looking in indexes: https://pypi.org/simple, https://us-python.pkg.dev/colab-wheels/public/simple/\n",
            "Requirement already satisfied: matplotlib-venn in /usr/local/lib/python3.7/dist-packages (0.11.7)\n",
            "Requirement already satisfied: scipy in /usr/local/lib/python3.7/dist-packages (from matplotlib-venn) (1.7.3)\n",
            "Requirement already satisfied: matplotlib in /usr/local/lib/python3.7/dist-packages (from matplotlib-venn) (3.2.2)\n",
            "Requirement already satisfied: numpy in /usr/local/lib/python3.7/dist-packages (from matplotlib-venn) (1.21.6)\n",
            "Requirement already satisfied: python-dateutil>=2.1 in /usr/local/lib/python3.7/dist-packages (from matplotlib->matplotlib-venn) (2.8.2)\n",
            "Requirement already satisfied: pyparsing!=2.0.4,!=2.1.2,!=2.1.6,>=2.0.1 in /usr/local/lib/python3.7/dist-packages (from matplotlib->matplotlib-venn) (3.0.9)\n",
            "Requirement already satisfied: cycler>=0.10 in /usr/local/lib/python3.7/dist-packages (from matplotlib->matplotlib-venn) (0.11.0)\n",
            "Requirement already satisfied: kiwisolver>=1.0.1 in /usr/local/lib/python3.7/dist-packages (from matplotlib->matplotlib-venn) (1.4.4)\n",
            "Requirement already satisfied: typing-extensions in /usr/local/lib/python3.7/dist-packages (from kiwisolver>=1.0.1->matplotlib->matplotlib-venn) (4.1.1)\n",
            "Requirement already satisfied: six>=1.5 in /usr/local/lib/python3.7/dist-packages (from python-dateutil>=2.1->matplotlib->matplotlib-venn) (1.15.0)\n"
          ]
        }
      ]
    },
    {
      "cell_type": "code",
      "source": [
        "!apt-get -qq install -y libfluidsynth1"
      ],
      "metadata": {
        "colab": {
          "base_uri": "https://localhost:8080/"
        },
        "id": "EogtVuaDJRee",
        "outputId": "d414de7c-2b6c-4354-8a03-2fc3138a789d"
      },
      "execution_count": 6,
      "outputs": [
        {
          "output_type": "stream",
          "name": "stdout",
          "text": [
            "Selecting previously unselected package libfluidsynth1:amd64.\n",
            "(Reading database ... 155685 files and directories currently installed.)\n",
            "Preparing to unpack .../libfluidsynth1_1.1.9-1_amd64.deb ...\n",
            "Unpacking libfluidsynth1:amd64 (1.1.9-1) ...\n",
            "Setting up libfluidsynth1:amd64 (1.1.9-1) ...\n",
            "Processing triggers for libc-bin (2.27-3ubuntu1.5) ...\n"
          ]
        }
      ]
    },
    {
      "cell_type": "markdown",
      "source": [
        "Install 7zip reader libarchive"
      ],
      "metadata": {
        "id": "DOY_ICkYJbTj"
      }
    },
    {
      "cell_type": "code",
      "source": [
        "# https://pypi.python.org/pypi/libarchive\n",
        "!apt-get -qq install -y libarchive-dev && pip install -U libarchive\n",
        "import libarchive"
      ],
      "metadata": {
        "colab": {
          "base_uri": "https://localhost:8080/"
        },
        "id": "eMFiMYO_JXrM",
        "outputId": "8f22b911-49f1-4fda-ab9b-174cff0465f2"
      },
      "execution_count": 7,
      "outputs": [
        {
          "output_type": "stream",
          "name": "stdout",
          "text": [
            "Selecting previously unselected package libarchive-dev:amd64.\n",
            "(Reading database ... \r(Reading database ... 5%\r(Reading database ... 10%\r(Reading database ... 15%\r(Reading database ... 20%\r(Reading database ... 25%\r(Reading database ... 30%\r(Reading database ... 35%\r(Reading database ... 40%\r(Reading database ... 45%\r(Reading database ... 50%\r(Reading database ... 55%\r(Reading database ... 60%\r(Reading database ... 65%\r(Reading database ... 70%\r(Reading database ... 75%\r(Reading database ... 80%\r(Reading database ... 85%\r(Reading database ... 90%\r(Reading database ... 95%\r(Reading database ... 100%\r(Reading database ... 155690 files and directories currently installed.)\n",
            "Preparing to unpack .../libarchive-dev_3.2.2-3.1ubuntu0.7_amd64.deb ...\n",
            "Unpacking libarchive-dev:amd64 (3.2.2-3.1ubuntu0.7) ...\n",
            "Setting up libarchive-dev:amd64 (3.2.2-3.1ubuntu0.7) ...\n",
            "Processing triggers for man-db (2.8.3-2ubuntu0.1) ...\n",
            "Looking in indexes: https://pypi.org/simple, https://us-python.pkg.dev/colab-wheels/public/simple/\n",
            "Collecting libarchive\n",
            "  Downloading libarchive-0.4.7.tar.gz (23 kB)\n",
            "Collecting nose\n",
            "  Downloading nose-1.3.7-py3-none-any.whl (154 kB)\n",
            "\u001b[K     |████████████████████████████████| 154 kB 6.2 MB/s \n",
            "\u001b[?25hBuilding wheels for collected packages: libarchive\n",
            "  Building wheel for libarchive (setup.py) ... \u001b[?25l\u001b[?25hdone\n",
            "  Created wheel for libarchive: filename=libarchive-0.4.7-py3-none-any.whl size=31646 sha256=f2de9ec3ee24d92bac534da7cbe7694d9219a94fd38e131461a7ff4742d503a4\n",
            "  Stored in directory: /root/.cache/pip/wheels/63/b1/c6/b3da79bec2012175bd43603eed98ef8548ac1733b77c1d4330\n",
            "Successfully built libarchive\n",
            "Installing collected packages: nose, libarchive\n",
            "Successfully installed libarchive-0.4.7 nose-1.3.7\n"
          ]
        }
      ]
    },
    {
      "cell_type": "markdown",
      "source": [
        "Install GraphViz & PyDot\n"
      ],
      "metadata": {
        "id": "sLLHc38fJphT"
      }
    },
    {
      "cell_type": "code",
      "source": [
        "# https://pypi.python.org/pypi/pydot\n",
        "!apt-get -qq install -y graphviz && pip install pydot\n",
        "import pydot"
      ],
      "metadata": {
        "colab": {
          "base_uri": "https://localhost:8080/"
        },
        "id": "BX-7ozcjJq_h",
        "outputId": "47d351e0-a9ae-400b-913c-8cd30bf2a080"
      },
      "execution_count": 8,
      "outputs": [
        {
          "output_type": "stream",
          "name": "stdout",
          "text": [
            "Looking in indexes: https://pypi.org/simple, https://us-python.pkg.dev/colab-wheels/public/simple/\n",
            "Requirement already satisfied: pydot in /usr/local/lib/python3.7/dist-packages (1.3.0)\n",
            "Requirement already satisfied: pyparsing>=2.1.4 in /usr/local/lib/python3.7/dist-packages (from pydot) (3.0.9)\n"
          ]
        }
      ]
    },
    {
      "cell_type": "markdown",
      "source": [
        "##1.4  Using Google Colab with GitHub"
      ],
      "metadata": {
        "id": "CyUVZaMuK3qk"
      }
    },
    {
      "cell_type": "markdown",
      "source": [
        "## how to get an access to the assignment (github)"
      ],
      "metadata": {
        "id": "1gbWECXvkZnq"
      }
    },
    {
      "cell_type": "markdown",
      "source": [
        "\n",
        "[Google Colaboratory](http://colab.research.google.com) is designed to integrate cleanly with GitHub, allowing both loading notebooks from github and saving notebooks to github."
      ],
      "metadata": {
        "id": "EPC3AuMxK7-G"
      }
    },
    {
      "cell_type": "markdown",
      "source": [
        "## Loading Public Notebooks Directly from GitHub\n",
        "\n",
        "Colab can load public github notebooks directly, with no required authorization step.\n",
        "\n",
        "For example, consider the notebook at this address: https://github.com/googlecolab/colabtools/blob/master/notebooks/colab-github-demo.ipynb.\n",
        "\n",
        "The direct colab link to this notebook is: https://colab.research.google.com/github/googlecolab/colabtools/blob/master/notebooks/colab-github-demo.ipynb.\n",
        "\n",
        "To generate such links in one click, you can use the [Open in Colab](https://chrome.google.com/webstore/detail/open-in-colab/iogfkhleblhcpcekbiedikdehleodpjo) Chrome extension."
      ],
      "metadata": {
        "id": "Xh_gGGfbK__1"
      }
    },
    {
      "cell_type": "markdown",
      "source": [
        "## Browsing GitHub Repositories from Colab\n",
        "\n",
        "Colab also supports special URLs that link directly to a GitHub browser for any user/organization, repository, or branch. For example:\n",
        "\n",
        "- http://colab.research.google.com/github will give you a general github browser, where you can search for any github organization or username.\n",
        "- http://colab.research.google.com/github/googlecolab/ will open the repository browser for the ``googlecolab`` organization. Replace ``googlecolab`` with any other github org or user to see their repositories.\n",
        "- http://colab.research.google.com/github/googlecolab/colabtools/ will let you browse the main branch of the ``colabtools`` repository within the ``googlecolab`` organization. Substitute any user/org and repository to see its contents.\n",
        "- http://colab.research.google.com/github/googlecolab/colabtools/blob/master will let you browse ``master`` branch of the ``colabtools`` repository within the ``googlecolab`` organization. (don't forget the ``blob`` here!) You can specify any valid branch for any valid repository."
      ],
      "metadata": {
        "id": "LExzaulMLDKV"
      }
    },
    {
      "cell_type": "markdown",
      "source": [
        "## Loading Private Notebooks\n",
        "\n",
        "Loading a notebook from a private GitHub repository is possible, but requires an additional step to allow Colab to access your files.\n",
        "Do the following:\n",
        "\n",
        "1. Navigate to http://colab.research.google.com/github.\n",
        "2. Click the \"Include Private Repos\" checkbox.\n",
        "3. In the popup window, sign-in to your Github account and authorize Colab to read the private files.\n",
        "4. Your private repositories and notebooks will now be available via the github navigation pane."
      ],
      "metadata": {
        "id": "XiiARYVELG5_"
      }
    },
    {
      "cell_type": "markdown",
      "source": [
        "## Saving Notebooks To GitHub or Drive\n",
        "\n",
        "Any time you open a GitHub hosted notebook in Colab, it opens a new editable view of the notebook. You can run and modify the notebook without worrying about overwriting the source.\n",
        "\n",
        "If you would like to save your changes from within Colab, you can use the File menu to save the modified notebook either to Google Drive or back to GitHub. Choose **File→Save a copy in Drive** or **File→Save a copy to GitHub** and follow the resulting prompts. To save a Colab notebook to GitHub requires giving Colab permission to push the commit to your repository."
      ],
      "metadata": {
        "id": "EZrSE_GbLMe5"
      }
    },
    {
      "cell_type": "markdown",
      "source": [],
      "metadata": {
        "id": "gRqT_prpLQ1e"
      }
    },
    {
      "cell_type": "markdown",
      "source": [
        "## 1.5 Enabling and testing the GPU\n",
        "\n",
        "First, you'll need to enable GPUs for the notebook:\n",
        "\n",
        "- Navigate to Edit→Notebook Settings\n",
        "- select GPU from the Hardware Accelerator drop-down\n",
        "\n",
        "Next, we'll confirm that we can connect to the GPU with tensorflow:"
      ],
      "metadata": {
        "id": "uTuFs45mLms0"
      }
    },
    {
      "cell_type": "code",
      "source": [
        "import torch \n",
        "torch.cuda.is_available()\n",
        "torch.cuda.device_count()\n",
        "torch.cuda.current_device()\n",
        "torch.cuda.device(0)\n",
        "torch.cuda.get_device_name(0)"
      ],
      "metadata": {
        "colab": {
          "base_uri": "https://localhost:8080/",
          "height": 36
        },
        "id": "ZR1fHUR-Lxsf",
        "outputId": "02019f59-1475-4cd3-9ede-7a0c42ab3d5e"
      },
      "execution_count": 1,
      "outputs": [
        {
          "output_type": "execute_result",
          "data": {
            "text/plain": [
              "'Tesla T4'"
            ],
            "application/vnd.google.colaboratory.intrinsic+json": {
              "type": "string"
            }
          },
          "metadata": {},
          "execution_count": 1
        }
      ]
    },
    {
      "cell_type": "markdown",
      "source": [
        "#### **2) PyTorch Tutorial**"
      ],
      "metadata": {
        "id": "roiklCXyi-Sc"
      }
    },
    {
      "cell_type": "code",
      "source": [
        "import torch \n",
        "import torchvision\n",
        "import torch.nn as nn\n",
        "import numpy as np\n",
        "import torchvision.transforms as transforms"
      ],
      "metadata": {
        "id": "EaBHGsgVj9t8"
      },
      "execution_count": null,
      "outputs": []
    },
    {
      "cell_type": "code",
      "source": [
        "# ================================================================== #\n",
        "#                    1. Basic autograd example 1                     #\n",
        "# ================================================================== #\n",
        "# Create tensors.\n",
        "x = torch.tensor(1., requires_grad=True)\n",
        "w = torch.tensor(2., requires_grad=True)\n",
        "b = torch.tensor(3., requires_grad=True)\n",
        "# required _grad explaination verbally\n",
        "\n",
        "# Create tensors directly from data \n",
        "\n",
        "data = [[9, 8],[7, 2]]\n",
        "x_data = torch.tensor(data)\n",
        "# Create tensors directly from numpy arrays\n",
        "\n",
        "np_array = np.array(data)\n",
        "x_np = torch.from_numpy(np_array)\n",
        "# Build a computational graph.\n",
        "y = w * x + b    # y = 2 * x + 3\n",
        "print(y)\n",
        "\n",
        "# Compute gradients.\n",
        "y.backward()\n",
        "\n",
        "# Print out the gradients.\n",
        "print(x.grad)    # x.grad = 2 \n",
        "print(w.grad)    # w.grad = 1 \n",
        "print(b.grad)    # b.grad = 1 \n"
      ],
      "metadata": {
        "colab": {
          "base_uri": "https://localhost:8080/"
        },
        "id": "t9mSbd2qkBtB",
        "outputId": "9728a1d9-7aa3-487a-e73e-c05ce5d43ad9"
      },
      "execution_count": null,
      "outputs": [
        {
          "output_type": "stream",
          "name": "stdout",
          "text": [
            "tensor(5., grad_fn=<AddBackward0>)\n",
            "tensor(2.)\n",
            "tensor(1.)\n",
            "tensor(1.)\n"
          ]
        }
      ]
    },
    {
      "cell_type": "code",
      "source": [
        "# ================================================================== #\n",
        "#                    2. Basic autograd example 2                     #\n",
        "# ================================================================== #\n",
        "\n",
        "# Build a fully connected layer.\n",
        "linear = nn.Linear(3, 2)\n",
        "print ('w: ', linear.weight)\n",
        "print ('b: ', linear.bias)\n",
        "\n",
        "# Build loss function and optimizer.\n",
        "criterion = nn.MSELoss()\n",
        "optimizer = torch.optim.SGD(linear.parameters(), lr=0.01)\n",
        "\n",
        "# Forward pass.\n",
        "pred = linear(x)\n",
        "\n",
        "# Compute loss.\n",
        "loss = criterion(pred, y)\n",
        "print('loss: ', loss.item())\n",
        "\n",
        "# Backward pass.\n",
        "loss.backward()\n",
        "\n",
        "# Print out the gradients.\n",
        "print ('dL/dw: ', linear.weight.grad) \n",
        "print ('dL/db: ', linear.bias.grad)\n",
        "\n",
        "\n",
        "# Print out the loss after 1-step gradient descent.\n",
        "pred = linear(x)\n",
        "loss = criterion(pred, y)\n",
        "print('loss after 1 step optimization: ', loss.item())"
      ],
      "metadata": {
        "colab": {
          "base_uri": "https://localhost:8080/"
        },
        "id": "yLix75_rkNqT",
        "outputId": "0f89d7d3-ec45-45eb-8e09-dbd5b35e36c8"
      },
      "execution_count": null,
      "outputs": [
        {
          "output_type": "stream",
          "name": "stdout",
          "text": [
            "w:  Parameter containing:\n",
            "tensor([[ 0.3538,  0.4362,  0.1372],\n",
            "        [-0.4469,  0.4670, -0.1572]], requires_grad=True)\n",
            "b:  Parameter containing:\n",
            "tensor([0.0179, 0.4697], requires_grad=True)\n",
            "loss:  1.6086828708648682\n",
            "dL/dw:  tensor([[-0.2340,  0.5072,  0.0504],\n",
            "        [-1.1386,  2.2592,  0.2755]])\n",
            "dL/db:  tensor([-0.0783,  0.0540])\n",
            "loss after 1 step optimization:  1.6086828708648682\n"
          ]
        }
      ]
    },
    {
      "cell_type": "code",
      "source": [
        "# ================================================================== #\n",
        "#                     3. Loading data from numpy                     #\n",
        "# ================================================================== #\n",
        "\n",
        "# Create a numpy array.\n",
        "x = np.array([[1, 2], [3, 4]])\n",
        "\n",
        "# Convert the numpy array to a torch tensor.\n",
        "y = torch.from_numpy(x)\n",
        "\n",
        "# Convert the torch tensor to a numpy array.\n",
        "z = y.numpy()"
      ],
      "metadata": {
        "id": "myBKrZwnkXXp"
      },
      "execution_count": null,
      "outputs": []
    },
    {
      "cell_type": "code",
      "source": [
        "\n",
        "# ================================================================== #\n",
        "#                         4. Input pipeline                           #\n",
        "# ================================================================== #\n",
        "\n",
        "# Download and construct CIFAR-10 dataset.\n",
        "train_dataset = torchvision.datasets.CIFAR10(root='../../data/',\n",
        "                                             train=True, \n",
        "                                             transform=transforms.ToTensor(),\n",
        "                                             download=True)\n",
        "\n",
        "# Fetch one data pair (read data from disk).\n",
        "image, label = train_dataset[0]\n",
        "print (image.size())\n",
        "print (label)\n",
        "\n",
        "# Data loader (this provides queues and threads in a very simple way).\n",
        "train_loader = torch.utils.data.DataLoader(dataset=train_dataset,\n",
        "                                           batch_size=64, \n",
        "                                           shuffle=True)\n",
        "\n",
        "# When iteration starts, queue and thread start to load data from files.\n",
        "data_iter = iter(train_loader)\n",
        "\n",
        "# Mini-batch images and labels.\n",
        "images, labels = data_iter.next()\n",
        "\n",
        "# Actual usage of the data loader is as below.\n",
        "for images, labels in train_loader:\n",
        "    # Training code should be written here.\n",
        "    pass"
      ],
      "metadata": {
        "colab": {
          "base_uri": "https://localhost:8080/"
        },
        "id": "fRGY2goCkavL",
        "outputId": "97aad75f-102c-4641-a2e2-89622addb49d"
      },
      "execution_count": null,
      "outputs": [
        {
          "output_type": "stream",
          "name": "stdout",
          "text": [
            "Files already downloaded and verified\n",
            "torch.Size([3, 32, 32])\n",
            "6\n"
          ]
        }
      ]
    },
    {
      "cell_type": "code",
      "source": [
        "# ================================================================== #\n",
        "#                5. Input pipeline for custom dataset                 #\n",
        "# ================================================================== #\n",
        "\n",
        "# You should build your custom dataset as below.\n",
        "class CustomDataset(torch.utils.data.Dataset):\n",
        "    def __init__(self):\n",
        "        # TODO\n",
        "        # 1. Initialize file paths or a list of file names. \n",
        "        pass\n",
        "    def __getitem__(self, index):\n",
        "        # TODO\n",
        "        # 1. Read one data from file (e.g. using numpy.fromfile, PIL.Image.open).\n",
        "        # 2. Preprocess the data (e.g. torchvision.Transform).\n",
        "        # 3. Return a data pair (e.g. image and label).\n",
        "        pass\n",
        "    def __len__(self):\n",
        "        # You should change 0 to the total size of your dataset.\n",
        "        return 0 \n",
        "\n",
        "# You can then use the prebuilt data loader. \n",
        "custom_dataset = CustomDataset()\n",
        "print(len(custom_dataset))\n",
        "train_loader = torch.utils.data.DataLoader(dataset=custom_dataset,\n",
        "                                           batch_size=64, \n",
        "                                           shuffle=True)"
      ],
      "metadata": {
        "id": "-na3xYhpmH98"
      },
      "execution_count": null,
      "outputs": []
    },
    {
      "cell_type": "code",
      "source": [
        "# ================================================================== #\n",
        "#                        6. Pretrained model                         #\n",
        "# ================================================================== #\n",
        "\n",
        "# Download and load the pretrained densenet.\n",
        "model = torchvision.models.resnet18(pretrained=True)\n",
        "# If you want to finetune only the top layer of the model, set as below.\n",
        "for param in model.parameters():\n",
        "    param.requires_grad = False\n",
        "\n",
        "# Replace the top layer for finetuning.\n",
        "model.fc = nn.Linear(model.fc.in_features, 100)  # 100 is an example.\n",
        "\n",
        "# Forward pass.\n",
        "images = torch.randn(64, 3, 224, 224)\n",
        "outputs = model(images)\n",
        "print (outputs.size())     # (64, 100)\n",
        "\n"
      ],
      "metadata": {
        "colab": {
          "base_uri": "https://localhost:8080/",
          "height": 236
        },
        "id": "Vi8gnXObkrbB",
        "outputId": "5121d5c3-29cf-474b-d5c6-6e5ae40fed7a"
      },
      "execution_count": 2,
      "outputs": [
        {
          "output_type": "error",
          "ename": "NameError",
          "evalue": "ignored",
          "traceback": [
            "\u001b[0;31m---------------------------------------------------------------------------\u001b[0m",
            "\u001b[0;31mNameError\u001b[0m                                 Traceback (most recent call last)",
            "\u001b[0;32m<ipython-input-2-e9a116818ba3>\u001b[0m in \u001b[0;36m<module>\u001b[0;34m\u001b[0m\n\u001b[1;32m      4\u001b[0m \u001b[0;34m\u001b[0m\u001b[0m\n\u001b[1;32m      5\u001b[0m \u001b[0;31m# Download and load the pretrained densenet.\u001b[0m\u001b[0;34m\u001b[0m\u001b[0;34m\u001b[0m\u001b[0;34m\u001b[0m\u001b[0m\n\u001b[0;32m----> 6\u001b[0;31m \u001b[0mmodel\u001b[0m \u001b[0;34m=\u001b[0m \u001b[0mtorchvision\u001b[0m\u001b[0;34m.\u001b[0m\u001b[0mmodels\u001b[0m\u001b[0;34m.\u001b[0m\u001b[0mresnet18\u001b[0m\u001b[0;34m(\u001b[0m\u001b[0mpretrained\u001b[0m\u001b[0;34m=\u001b[0m\u001b[0;32mTrue\u001b[0m\u001b[0;34m)\u001b[0m\u001b[0;34m\u001b[0m\u001b[0;34m\u001b[0m\u001b[0m\n\u001b[0m\u001b[1;32m      7\u001b[0m \u001b[0;31m# If you want to finetune only the top layer of the model, set as below.\u001b[0m\u001b[0;34m\u001b[0m\u001b[0;34m\u001b[0m\u001b[0;34m\u001b[0m\u001b[0m\n\u001b[1;32m      8\u001b[0m \u001b[0;32mfor\u001b[0m \u001b[0mparam\u001b[0m \u001b[0;32min\u001b[0m \u001b[0mmodel\u001b[0m\u001b[0;34m.\u001b[0m\u001b[0mparameters\u001b[0m\u001b[0;34m(\u001b[0m\u001b[0;34m)\u001b[0m\u001b[0;34m:\u001b[0m\u001b[0;34m\u001b[0m\u001b[0;34m\u001b[0m\u001b[0m\n",
            "\u001b[0;31mNameError\u001b[0m: name 'torchvision' is not defined"
          ]
        }
      ]
    },
    {
      "cell_type": "code",
      "source": [
        "# ================================================================== #\n",
        "#                      7. Save and load the model                    #\n",
        "# ================================================================== #\n",
        "\n",
        "# Save and load the entire model.\n",
        "torch.save(model, 'model.ckpt')\n",
        "model = torch.load('model.ckpt')\n",
        "\n",
        "# Save and load only the model parameters (recommended).\n",
        "torch.save(model.state_dict(), 'params.ckpt')\n",
        "model.load_state_dict(torch.load('params.ckpt'))"
      ],
      "metadata": {
        "colab": {
          "base_uri": "https://localhost:8080/"
        },
        "id": "oEoVFD4OlL6r",
        "outputId": "da9e7b58-10b3-467a-a43c-18b4e5f77dbb"
      },
      "execution_count": null,
      "outputs": [
        {
          "output_type": "execute_result",
          "data": {
            "text/plain": [
              "<All keys matched successfully>"
            ]
          },
          "metadata": {},
          "execution_count": 22
        }
      ]
    },
    {
      "cell_type": "code",
      "source": [
        "# ================================================================== #\n",
        "#                      8. Linear Regression                          #\n",
        "# ================================================================== #\n",
        "import torch\n",
        "import torch.nn as nn\n",
        "import numpy as np\n",
        "import matplotlib.pyplot as plt\n",
        "\n",
        "\n",
        "# Hyper-parameters\n",
        "input_size = 1\n",
        "output_size = 1\n",
        "num_epochs = 60\n",
        "learning_rate = 0.001\n",
        "\n",
        "# Toy dataset\n",
        "x_train = np.array([[3.3], [4.4], [5.5], [6.71], [6.93], [4.168], \n",
        "                    [9.779], [6.182], [7.59], [2.167], [7.042], \n",
        "                    [10.791], [5.313], [7.997], [3.1]], dtype=np.float32)\n",
        "\n",
        "y_train = np.array([[1.7], [2.76], [2.09], [3.19], [1.694], [1.573], \n",
        "                    [3.366], [2.596], [2.53], [1.221], [2.827], \n",
        "                    [3.465], [1.65], [2.904], [1.3]], dtype=np.float32)\n",
        "\n",
        "# Linear regression model\n",
        "model = nn.Linear(input_size, output_size)\n",
        "\n",
        "# Loss and optimizer\n",
        "criterion = nn.MSELoss()\n",
        "optimizer = torch.optim.SGD(model.parameters(), lr=learning_rate)  \n",
        "\n",
        "# Train the model\n",
        "for epoch in range(num_epochs):\n",
        "    # Convert numpy arrays to torch tensors\n",
        "    inputs = torch.from_numpy(x_train)\n",
        "    targets = torch.from_numpy(y_train)\n",
        "\n",
        "    # Forward pass\n",
        "    outputs = model(inputs)\n",
        "    loss = criterion(outputs, targets)\n",
        "    \n",
        "    # Backward and optimize\n",
        "    optimizer.zero_grad()\n",
        "    loss.backward()\n",
        "    optimizer.step()\n",
        "    \n",
        "    if (epoch+1) % 5 == 0:\n",
        "        print ('Epoch [{}/{}], Loss: {:.4f}'.format(epoch+1, num_epochs, loss.item()))\n",
        "\n",
        "# Plot the graph\n",
        "predicted = model(torch.from_numpy(x_train)).detach().numpy()\n",
        "plt.plot(x_train, y_train, 'ro', label='Original data')\n",
        "plt.plot(x_train, predicted, label='Fitted line')\n",
        "plt.legend()\n",
        "plt.show()\n",
        "\n",
        "# Save the model checkpoint\n",
        "torch.save(model.state_dict(), 'model.ckpt')"
      ],
      "metadata": {
        "colab": {
          "base_uri": "https://localhost:8080/",
          "height": 473
        },
        "id": "R4p_3OYpnk2D",
        "outputId": "702cfcd0-131b-4b85-a528-7d0cc7c3077e"
      },
      "execution_count": null,
      "outputs": [
        {
          "output_type": "stream",
          "name": "stdout",
          "text": [
            "Epoch [5/60], Loss: 2.7786\n",
            "Epoch [10/60], Loss: 1.2267\n",
            "Epoch [15/60], Loss: 0.5980\n",
            "Epoch [20/60], Loss: 0.3433\n",
            "Epoch [25/60], Loss: 0.2401\n",
            "Epoch [30/60], Loss: 0.1983\n",
            "Epoch [35/60], Loss: 0.1814\n",
            "Epoch [40/60], Loss: 0.1745\n",
            "Epoch [45/60], Loss: 0.1717\n",
            "Epoch [50/60], Loss: 0.1706\n",
            "Epoch [55/60], Loss: 0.1702\n",
            "Epoch [60/60], Loss: 0.1700\n"
          ]
        },
        {
          "output_type": "display_data",
          "data": {
            "text/plain": [
              "<Figure size 432x288 with 1 Axes>"
            ],
            "image/png": "[encoded data removed]"
          },
          "metadata": {
            "needs_background": "light"
          }
        }
      ]
    }
  ]
}